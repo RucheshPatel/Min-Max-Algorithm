{
  "nbformat": 4,
  "nbformat_minor": 0,
  "metadata": {
    "colab": {
      "provenance": []
    },
    "kernelspec": {
      "name": "python3",
      "display_name": "Python 3"
    },
    "language_info": {
      "name": "python"
    }
  },
  "cells": [
    {
      "cell_type": "code",
      "execution_count": 1,
      "metadata": {
        "colab": {
          "base_uri": "https://localhost:8080/"
        },
        "id": "bKdFC3kzyeNJ",
        "outputId": "e9505640-0496-4bb0-e062-3ee7024c2d02"
      },
      "outputs": [
        {
          "output_type": "stream",
          "name": "stdout",
          "text": [
            "Welcome to Guess the Number!\n",
            "Think of a number between 1 and 100.\n",
            "Computer guesses: 55\n",
            "Is the target number higher (H), lower (L), or correct (C)? L\n",
            "Computer guesses: 9\n",
            "Is the target number higher (H), lower (L), or correct (C)? H\n",
            "Computer guesses: 18\n",
            "Is the target number higher (H), lower (L), or correct (C)? H\n",
            "Computer guesses: 27\n",
            "Is the target number higher (H), lower (L), or correct (C)? H\n",
            "Computer guesses: 36\n",
            "Is the target number higher (H), lower (L), or correct (C)? H\n",
            "Computer guesses: 45\n",
            "Is the target number higher (H), lower (L), or correct (C)? H\n",
            "Computer guesses: 54\n",
            "Is the target number higher (H), lower (L), or correct (C)? L\n",
            "Computer guesses: 53\n",
            "Is the target number higher (H), lower (L), or correct (C)? L\n",
            "Computer guesses: 52\n",
            "Is the target number higher (H), lower (L), or correct (C)? L\n",
            "Computer guesses: 51\n",
            "Is the target number higher (H), lower (L), or correct (C)? l\n",
            "Computer guesses: 50\n",
            "Is the target number higher (H), lower (L), or correct (C)? c\n",
            "Computer gave up!\n"
          ]
        }
      ],
      "source": [
        "import random\n",
        "\n",
        "def guess_number(min_num, max_num):\n",
        "    return random.randint(min_num, max_num)\n",
        "\n",
        "def minimax(min_num, max_num, depth, maximizing_player, target_number):\n",
        "    if depth == 0 or min_num == max_num:\n",
        "        return abs(target_number - max_num)\n",
        "\n",
        "    if maximizing_player:\n",
        "        max_eval = -float('inf')\n",
        "        for guess in range(min_num, max_num + 1):\n",
        "            eval = minimax(min_num, max_num, depth - 1, False, target_number)\n",
        "            max_eval = max(max_eval, eval)\n",
        "        return max_eval\n",
        "    else:\n",
        "        min_eval = float('inf')\n",
        "        for guess in range(min_num, max_num + 1):\n",
        "            eval = minimax(min_num, max_num, depth - 1, True, target_number)\n",
        "            min_eval = min(min_eval, eval)\n",
        "        return min_eval\n",
        "\n",
        "def play_guess_the_number():\n",
        "    target_number = random.randint(1, 100)\n",
        "    min_num = 1\n",
        "    max_num = 100\n",
        "    depth = 4\n",
        "\n",
        "    print(\"Welcome to Guess the Number!\")\n",
        "    print(\"Think of a number between 1 and 100.\")\n",
        "\n",
        "    while True:\n",
        "        computer_guess = min_num + minimax(min_num, max_num, depth, True, target_number)\n",
        "        print(f\"Computer guesses: {computer_guess}\")\n",
        "\n",
        "        if computer_guess == target_number:\n",
        "            print(\"Computer guessed correctly!\")\n",
        "            break\n",
        "        else:\n",
        "            feedback = input(\"Is the target number higher (H), lower (L), or correct (C)? \").upper()\n",
        "            if feedback == 'H':\n",
        "                min_num = computer_guess + 1\n",
        "            elif feedback == 'L':\n",
        "                max_num = computer_guess - 1\n",
        "            elif feedback == 'C':\n",
        "                print(\"Computer gave up!\")\n",
        "                break\n",
        "            else:\n",
        "                print(\"Invalid input. Please enter 'H', 'L', or 'C'.\")\n",
        "\n",
        "if __name__ == \"__main__\":\n",
        "    play_guess_the_number()\n"
      ]
    }
  ]
}